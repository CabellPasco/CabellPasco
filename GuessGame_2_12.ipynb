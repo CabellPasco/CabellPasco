{
  "nbformat": 4,
  "nbformat_minor": 0,
  "metadata": {
    "colab": {
      "provenance": [],
      "authorship_tag": "ABX9TyMHgZBuU2dQkD2x40fR41Vk",
      "include_colab_link": true
    },
    "kernelspec": {
      "name": "python3",
      "display_name": "Python 3"
    },
    "language_info": {
      "name": "python"
    }
  },
  "cells": [
    {
      "cell_type": "markdown",
      "metadata": {
        "id": "view-in-github",
        "colab_type": "text"
      },
      "source": [
        "<a href=\"https://colab.research.google.com/github/CabellPasco/CabellPasco/blob/main/GuessGame_2_12.ipynb\" target=\"_parent\"><img src=\"https://colab.research.google.com/assets/colab-badge.svg\" alt=\"Open In Colab\"/></a>"
      ]
    },
    {
      "cell_type": "code",
      "source": [
        "def number_check(s): #send inputs through here to check viability / send appropriate error messg\n",
        "  try:\n",
        "    y = int(s)\n",
        "  except:\n",
        "      s = input(\"Invalid guess! Guess again. \")\n",
        "      return number_check(s) #this recursive return is the only reason this method words\n",
        "  else:\n",
        "    y = int(s)\n",
        "    return y\n",
        "    #could also add another try/except to check from -1000 to 1000\n",
        "\n",
        "import random\n",
        "\n",
        "def play_game():\n",
        "  i = 1\n",
        "  x = random.randint(0,100)\n",
        "  y = input(\"Guess a number (from 0-100): \")\n",
        "  y = number_check(y)\n",
        "  while y!=x:\n",
        "     if y>x:\n",
        "       y = input(\"Too high! Guess again. \")\n",
        "       y = number_check(y)\n",
        "     elif y<x:\n",
        "        y = input(\"Too low! Guess again. \")\n",
        "        y = number_check(y)\n",
        "     i=i+1\n",
        "  else:\n",
        "     i=i+1\n",
        "     print(\"That's right! You got it in \",str(i),\" guesses. \")\n",
        "\n",
        "play_game()"
      ],
      "metadata": {
        "colab": {
          "base_uri": "https://localhost:8080/"
        },
        "id": "YPKbaG6ELkMt",
        "outputId": "979db5f0-3002-4213-bf65-7b8d4b3b6eb5"
      },
      "execution_count": null,
      "outputs": [
        {
          "output_type": "stream",
          "name": "stdout",
          "text": [
            "Guess a number (from 0-100): 50\n",
            "Too high! Guess again. 25\n",
            "Too high! Guess again. 15\n",
            "Too low! Guess again. 20\n",
            "Too low! Guess again. 22\n",
            "Too high! Guess again. 21\n",
            "That's right! You got it in  7  guesses. \n"
          ]
        }
      ]
    },
    {
      "cell_type": "markdown",
      "source": [
        "This assignment took about an hour and a half to complete, the testing for robustness took by far the most time"
      ],
      "metadata": {
        "id": "D-pQAX8yffHn"
      }
    }
  ]
}