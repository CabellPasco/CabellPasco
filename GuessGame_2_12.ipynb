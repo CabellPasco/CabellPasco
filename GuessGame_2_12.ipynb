{
  "nbformat": 4,
  "nbformat_minor": 0,
  "metadata": {
    "colab": {
      "provenance": [],
      "authorship_tag": "ABX9TyNqXoSmMJe+QBrAgmgd9grB",
      "include_colab_link": true
    },
    "kernelspec": {
      "name": "python3",
      "display_name": "Python 3"
    },
    "language_info": {
      "name": "python"
    }
  },
  "cells": [
    {
      "cell_type": "markdown",
      "metadata": {
        "id": "view-in-github",
        "colab_type": "text"
      },
      "source": [
        "<a href=\"https://colab.research.google.com/github/CabellPasco/CabellPasco/blob/main/GuessGame_2_12.ipynb\" target=\"_parent\"><img src=\"https://colab.research.google.com/assets/colab-badge.svg\" alt=\"Open In Colab\"/></a>"
      ]
    },
    {
      "cell_type": "code",
      "execution_count": 132,
      "metadata": {
        "id": "fx9oRqTF3weD"
      },
      "outputs": [],
      "source": [
        "import random\n",
        "\n",
        "def play_game():\n",
        "  i = 1\n",
        "  x = random.randint(0,100)\n",
        "  y = int(input(\"Guess a number (from 0-100): \"))\n",
        "  while int(y)!=x:\n",
        "     if y>x:\n",
        "       y= int(input(\"Too high! Guess again. \"))\n",
        "     elif y<x:\n",
        "        y= int(input(\"Too low! Guess again. \"))\n",
        "     i=i+1\n",
        "  else:\n",
        "     i=i+1\n",
        "     print(\"That's right! You got it in \",str(i),\" guesses. \")\n"
      ]
    },
    {
      "cell_type": "code",
      "source": [
        "play_game()"
      ],
      "metadata": {
        "colab": {
          "base_uri": "https://localhost:8080/"
        },
        "id": "beI6N9VrJZ0O",
        "outputId": "3ae6d57c-5ed5-4a00-f00a-43bb1c681d27"
      },
      "execution_count": 133,
      "outputs": [
        {
          "output_type": "stream",
          "name": "stdout",
          "text": [
            "Guess a number (from 0-100): 50\n",
            "Too low! Guess again. 75\n",
            "Too high! Guess again. 65\n",
            "Too low! Guess again. 70\n",
            "Too low! Guess again. 73\n",
            "Too high! Guess again. 71\n",
            "That's right! You got it in  7  guesses. \n"
          ]
        }
      ]
    },
    {
      "cell_type": "code",
      "source": [
        "def number_check(s): #not sure how to ensure robustness, encountered uncountable number of errors when trying to use this method\n",
        "  try:\n",
        "    y = int(s)\n",
        "  except:\n",
        "      y = input(\"Invalid guess! Guess again. \")\n",
        "  else:\n",
        "    y = int(s)\n",
        "    return y"
      ],
      "metadata": {
        "id": "YPKbaG6ELkMt"
      },
      "execution_count": 113,
      "outputs": []
    }
  ]
}