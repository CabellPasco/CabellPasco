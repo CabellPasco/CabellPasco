{
  "nbformat": 4,
  "nbformat_minor": 0,
  "metadata": {
    "colab": {
      "provenance": [],
      "authorship_tag": "ABX9TyM1V103aDaG4KE25CZXKBIo",
      "include_colab_link": true
    },
    "kernelspec": {
      "name": "python3",
      "display_name": "Python 3"
    },
    "language_info": {
      "name": "python"
    }
  },
  "cells": [
    {
      "cell_type": "markdown",
      "metadata": {
        "id": "view-in-github",
        "colab_type": "text"
      },
      "source": [
        "<a href=\"https://colab.research.google.com/github/CabellPasco/CabellPasco/blob/main/GuessGame_2_12.ipynb\" target=\"_parent\"><img src=\"https://colab.research.google.com/assets/colab-badge.svg\" alt=\"Open In Colab\"/></a>"
      ]
    },
    {
      "cell_type": "code",
      "source": [
        "def number_check(s): \\\n",
        "  try:\n",
        "    y = int(s)\n",
        "  except:\n",
        "      s = input(\"Invalid guess! Guess again. \")\n",
        "      return number_check(s)\n",
        "  else:\n",
        "    y = int(s)\n",
        "    return y"
      ],
      "metadata": {
        "id": "YPKbaG6ELkMt"
      },
      "execution_count": 178,
      "outputs": []
    },
    {
      "cell_type": "code",
      "execution_count": 193,
      "metadata": {
        "id": "fx9oRqTF3weD"
      },
      "outputs": [],
      "source": [
        "import random\n",
        "\n",
        "def play_game():\n",
        "  i = 1\n",
        "  x = random.randint(0,100)\n",
        "  y = input(\"Guess a number (from 0-100): \")\n",
        "  y = number_check(y)\n",
        "  while y!=x:\n",
        "     if y>x:\n",
        "       y = input(\"Too high! Guess again. \")\n",
        "       y = number_check(y)\n",
        "     elif y<x:\n",
        "        y = input(\"Too low! Guess again. \")\n",
        "        y = number_check(y)\n",
        "     i=i+1\n",
        "  else:\n",
        "     i=i+1\n",
        "     print(\"That's right! You got it in \",str(i),\" guesses. \")\n"
      ]
    },
    {
      "cell_type": "code",
      "source": [
        "play_game()"
      ],
      "metadata": {
        "colab": {
          "base_uri": "https://localhost:8080/"
        },
        "id": "beI6N9VrJZ0O",
        "outputId": "968fc56a-f477-482b-d336-8bb1d6598b81"
      },
      "execution_count": 194,
      "outputs": [
        {
          "output_type": "stream",
          "name": "stdout",
          "text": [
            "Guess a number (from 0-100): 50\n",
            "Too low! Guess again. 10\n",
            "Too low! Guess again. 60\n",
            "Too low! Guess again. 70\n",
            "Too low! Guess again. 90\n",
            "Too high! Guess again. 79\n",
            "That's right! You got it in  7  guesses. \n"
          ]
        }
      ]
    },
    {
      "cell_type": "code",
      "source": [
        "s = input(\"number: \"); x=number_check(s)\n",
        "print(x)\n",
        "print(5*x)\n",
        "print(type(x))"
      ],
      "metadata": {
        "colab": {
          "base_uri": "https://localhost:8080/"
        },
        "id": "64oOen6nQL4c",
        "outputId": "611501c2-aa98-42b3-ee07-c52974a03258"
      },
      "execution_count": 175,
      "outputs": [
        {
          "output_type": "stream",
          "name": "stdout",
          "text": [
            "number: 50\n",
            "<class 'int'>\n",
            "50\n",
            "250\n",
            "<class 'int'>\n"
          ]
        }
      ]
    }
  ]
}