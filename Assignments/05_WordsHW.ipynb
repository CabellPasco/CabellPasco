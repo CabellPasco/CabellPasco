{
  "nbformat": 4,
  "nbformat_minor": 0,
  "metadata": {
    "colab": {
      "provenance": [],
      "include_colab_link": true
    },
    "kernelspec": {
      "name": "python3",
      "display_name": "Python 3"
    },
    "language_info": {
      "name": "python"
    }
  },
  "cells": [
    {
      "cell_type": "markdown",
      "metadata": {
        "id": "view-in-github",
        "colab_type": "text"
      },
      "source": [
        "<a href=\"https://colab.research.google.com/github/CabellPasco/CabellPasco/blob/main/Assignments/05_WordsHW.ipynb\" target=\"_parent\"><img src=\"https://colab.research.google.com/assets/colab-badge.svg\" alt=\"Open In Colab\"/></a>"
      ]
    },
    {
      "cell_type": "markdown",
      "source": [
        "## Words (an assignment due Weds 28 Feb by noon)\n",
        "\n",
        "There are many word lists available on the internet, of varying size and quality.  You have one on your own computer, actually, which is used by any software that has a spell-check feature.  As you type, the software (Outlook, or Microsoft Word, or whatever) is constantly looking up words to see if they are on the word list, and if not it will alert you that it thinks the word is misspelled.\n",
        "\n",
        "(On a Mac, one such file is located at `/usr/share/dict/web2`.  I'm not sure where to find it on a PC.)\n",
        "\n",
        "For this assignment we will use a word list called `web2` that you can access via a python package called `english_words`.\n",
        "\n"
      ],
      "metadata": {
        "id": "-nyptjTP99WZ"
      }
    },
    {
      "cell_type": "markdown",
      "source": [
        "\n",
        "### Assignment\n",
        "\n",
        "0.  Open a new colab notebook, and put this code into a code chunk at the top:\n",
        "```\n",
        "!pip install english_words\n",
        "from english_words import get_english_words_set\n",
        "words = get_english_words_set(['web2'], lower=True)\n",
        "```"
      ],
      "metadata": {
        "id": "eJU4Y9YpUmXB"
      }
    },
    {
      "cell_type": "code",
      "source": [
        "!pip install english_words\n",
        "from english_words import get_english_words_set\n",
        "words = get_english_words_set(['web2'], lower=True)\n",
        "\n",
        "#wordlist (1-2)\n",
        "wordlist = list(words)\n",
        "print(\"Number of words in WordList: \", len(wordlist))\n",
        "print(\"First ten words of WordList: \", wordlist[0:10])"
      ],
      "metadata": {
        "colab": {
          "base_uri": "https://localhost:8080/"
        },
        "id": "ILwe46v8Pp64",
        "outputId": "32c66ae7-45e3-47db-ce6c-3440ac60f109"
      },
      "execution_count": 29,
      "outputs": [
        {
          "output_type": "stream",
          "name": "stdout",
          "text": [
            "Requirement already satisfied: english_words in /usr/local/lib/python3.10/dist-packages (2.0.1)\n",
            "Number of words in WordList:  234450\n",
            "First ten words of WordList:  ['ethnotechnography', 'purusha', 'antipolemist', 'triumvirship', 'subventitious', 'tabla', 'lecythidaceous', 'unsprinkled', 'unjointed', 'criterional']\n"
          ]
        }
      ]
    },
    {
      "cell_type": "code",
      "source": [
        "#alpha_list - alphabetical wordlist (3)\n",
        "alpha_list = sorted(wordlist)\n",
        "print(\"First ten words of Alpha_List: \", alpha_list[0:10])"
      ],
      "metadata": {
        "colab": {
          "base_uri": "https://localhost:8080/"
        },
        "id": "khjlgkzPdRX8",
        "outputId": "ffad3327-43a5-4fc5-b494-df0d604edee7"
      },
      "execution_count": 30,
      "outputs": [
        {
          "output_type": "stream",
          "name": "stdout",
          "text": [
            "First ten words of Alpha_List:  ['a', 'aa', 'aal', 'aalii', 'aam', 'aani', 'aardvark', 'aardwolf', 'aaron', 'aaronic']\n"
          ]
        }
      ]
    },
    {
      "cell_type": "code",
      "source": [
        "#num words starting with a (4)\n",
        "a = 0;\n",
        "while alpha_list[a][0] == \"a\":\n",
        "  a+=1\n",
        "print(\"Number of words starting with 'a': \", a)"
      ],
      "metadata": {
        "colab": {
          "base_uri": "https://localhost:8080/"
        },
        "id": "x_ybIaCsdP9q",
        "outputId": "4c64f60d-e584-4705-f5b5-55b58dea7a51"
      },
      "execution_count": 93,
      "outputs": [
        {
          "output_type": "stream",
          "name": "stdout",
          "text": [
            "Number of words starting with 'a':  16982\n"
          ]
        }
      ]
    },
    {
      "cell_type": "code",
      "source": [
        "#num words with a q / words without an e\n",
        "i = 0; q = 0;\n",
        "while i < len(alpha_list):\n",
        "    if \"q\" in alpha_list[i]:\n",
        "      q+=1\n",
        "    i+=1\n",
        "print(\"Number of words with a 'q': \", q)\n",
        "\n",
        "j = 0; ne = 0;\n",
        "while j < len(alpha_list):\n",
        "    if \"e\" not in alpha_list[j]:\n",
        "      ne+=1\n",
        "    j+=1\n",
        "print(ne, len(alpha_list))\n",
        "print(\"Fraction of words without an 'e': \",ne,\"/\",len(alpha_list),\"(%\",(ne/len(alpha_list)*100),\")\")"
      ],
      "metadata": {
        "colab": {
          "base_uri": "https://localhost:8080/"
        },
        "id": "fb-Mg1t_WI19",
        "outputId": "fb578c27-473d-4143-fc1c-cd6654a3f6d5"
      },
      "execution_count": 28,
      "outputs": [
        {
          "output_type": "stream",
          "name": "stdout",
          "text": [
            "Number of words with a 'q':  3624\n",
            "76966 234450\n",
            "Fraction of words without an 'e':  76966 / 234450 (% 32.828321603753466 )\n"
          ]
        }
      ]
    },
    {
      "cell_type": "code",
      "source": [
        "#convert to numpy arrays / create a list of the alphabet (6)\n",
        "import numpy as np\n",
        "wordlistnp = np.array(wordlist)\n",
        "alpha_listnp = np.array(alpha_list)\n",
        "\n",
        "alphabet = [chr(i) for i in range(ord('a'),ord('z')+1)]"
      ],
      "metadata": {
        "id": "PrmH5u65UfRZ"
      },
      "execution_count": 177,
      "outputs": []
    },
    {
      "cell_type": "code",
      "source": [
        "#gets num of words starting in given letter(7)\n",
        "def numStartingLetter(letter):\n",
        "  count = 0;\n",
        "  for word in alpha_list:\n",
        "    if word[0] == letter:\n",
        "      count+=1\n",
        "  return count\n"
      ],
      "metadata": {
        "id": "QE_glSZNvahQ"
      },
      "execution_count": 251,
      "outputs": []
    },
    {
      "cell_type": "code",
      "source": [
        " #creates a 26 item list of number of words starting in each letter(7)\n",
        "numList = []\n",
        "i = 0;\n",
        "while i<26:\n",
        "  numList.append(numStartingLetter(alphabet[i]))\n",
        "  i+=1"
      ],
      "metadata": {
        "id": "w_xK6r7YkP55"
      },
      "execution_count": 246,
      "outputs": []
    },
    {
      "cell_type": "code",
      "source": [
        "#bar graph of number of words starting with each letter (7)\n",
        "import matplotlib.pyplot as plt\n",
        "\n",
        "\n",
        "plt.xlabel(\"Starting Letter\")\n",
        "plt.ylabel(\"Num Appearances\")\n",
        "plt.title(\"Number of Words that Start with Each Letter\")\n",
        "\n",
        "\n",
        "plt.bar(alphabet, numList, color = \"silver\", width = .5,edgecolor = \"red\")"
      ],
      "metadata": {
        "colab": {
          "base_uri": "https://localhost:8080/",
          "height": 489
        },
        "id": "SgPYvVyPhmdI",
        "outputId": "23b7b371-51e9-4ac2-93e9-ce56d13eea91"
      },
      "execution_count": 293,
      "outputs": [
        {
          "output_type": "execute_result",
          "data": {
            "text/plain": [
              "<BarContainer object of 26 artists>"
            ]
          },
          "metadata": {},
          "execution_count": 293
        },
        {
          "output_type": "display_data",
          "data": {
            "text/plain": [
              "<Figure size 640x480 with 1 Axes>"
            ],
            "image/png": "[encoded data removed]"
          },
          "metadata": {}
        }
      ]
    },
    {
      "cell_type": "code",
      "source": [
        "#finding the six longest words (8)\n",
        "max = 0; i = 0; king = \"\"\n",
        "longWords = sorted(alpha_list, key=len)\n",
        "end = len(longWords)-6\n",
        "\n",
        "print(longWords[end:])\n",
        "print(longWords[:10]) #is this something broken about english_words? it counts 25/26 letters as \"words\" not including a..."
      ],
      "metadata": {
        "id": "FbXVaqYFLs2l",
        "outputId": "6ce9b6ad-92a2-4a6b-d48e-165f19614b18",
        "colab": {
          "base_uri": "https://localhost:8080/"
        }
      },
      "execution_count": 266,
      "outputs": [
        {
          "output_type": "stream",
          "name": "stdout",
          "text": [
            "['stereophotomicrography', 'theologicoastronomical', 'theologicometaphysical', 'thyroparathyroidectomy', 'ureterocystanastomosis', 'zoologicoarchaeologist']\n",
            "['b', 'c', 'd', 'e', 'f', 'g', 'h', 'i', 'j', 'k']\n"
          ]
        }
      ]
    },
    {
      "cell_type": "code",
      "source": [],
      "metadata": {
        "id": "YqCYFP5LS8LM"
      },
      "execution_count": null,
      "outputs": []
    },
    {
      "cell_type": "code",
      "source": [
        "#creating a list of word lengths 1-22(9)\n",
        "\n",
        "def numOfEachLength(num):\n",
        "  count = 0;\n",
        "  for word in alpha_list:\n",
        "    if len(word) == num:\n",
        "      count+=1\n",
        "  return count\n"
      ],
      "metadata": {
        "id": "HNcEsHlLQaAm"
      },
      "execution_count": 276,
      "outputs": []
    },
    {
      "cell_type": "code",
      "source": [
        "#creates a 22 item list of number of words of each length(9)\n",
        "numListLen = []\n",
        "i = 1;\n",
        "while i<22:\n",
        "  numListLen.append(numOfEachLength(i))\n",
        "  i+=1\n",
        "print(numListLen)"
      ],
      "metadata": {
        "id": "QUReXh5tTAzx",
        "outputId": "19b9f3e5-53ba-4981-cec9-c5f0bf47b261",
        "colab": {
          "base_uri": "https://localhost:8080/"
        }
      },
      "execution_count": 278,
      "outputs": [
        {
          "output_type": "stream",
          "name": "stdout",
          "text": [
            "[25, 137, 1297, 5002, 9969, 17457, 23706, 29834, 32272, 30816, 25946, 20431, 14913, 9747, 5904, 3355, 1794, 822, 407, 176, 60]\n"
          ]
        }
      ]
    },
    {
      "cell_type": "code",
      "source": [
        "#histogram of frequencies of word lengths\n",
        "plt.xlabel(\"Num Appearances\")\n",
        "plt.ylabel(\"Frequency of Word\")\n",
        "plt.title(\"Distribution of Word Lengths\")\n",
        "\n",
        "plt.hist(numListLen, bins=20, color='green', edgecolor='black')"
      ],
      "metadata": {
        "id": "YASF_fKpP99j",
        "outputId": "8a2b1b60-f85c-44e5-8c15-58d6153adb07",
        "colab": {
          "base_uri": "https://localhost:8080/",
          "height": 628
        }
      },
      "execution_count": 290,
      "outputs": [
        {
          "output_type": "execute_result",
          "data": {
            "text/plain": [
              "(array([7., 1., 1., 2., 0., 0., 2., 0., 0., 1., 1., 0., 1., 0., 1., 0., 1.,\n",
              "        0., 1., 2.]),\n",
              " array([2.500000e+01, 1.637350e+03, 3.249700e+03, 4.862050e+03,\n",
              "        6.474400e+03, 8.086750e+03, 9.699100e+03, 1.131145e+04,\n",
              "        1.292380e+04, 1.453615e+04, 1.614850e+04, 1.776085e+04,\n",
              "        1.937320e+04, 2.098555e+04, 2.259790e+04, 2.421025e+04,\n",
              "        2.582260e+04, 2.743495e+04, 2.904730e+04, 3.065965e+04,\n",
              "        3.227200e+04]),\n",
              " <BarContainer object of 20 artists>)"
            ]
          },
          "metadata": {},
          "execution_count": 290
        },
        {
          "output_type": "display_data",
          "data": {
            "text/plain": [
              "<Figure size 640x480 with 1 Axes>"
            ],
            "image/png": "[encoded data removed]"
          },
          "metadata": {}
        }
      ]
    },
    {
      "cell_type": "markdown",
      "source": [
        "1.  The variable `words` is not yet a `list`.  What is its data type?  Convert it to a `list` called `wordlist`.  How long is `wordlist`?\n",
        "\n",
        "1.  Print out the first ten words in `wordlist`.  What do you notice?\n",
        "\n",
        "1.  Make a list called `alpha_list` containing all the same words, but in alphabetical order.  (Use the `sorted()` function.) Print out the first ten words in `alpha_list`.\n",
        "\n",
        "1.  How many words start with `a`?  I mean words on your list (either sorted or unsorted); whenever I say \"words\" from now on I will be referring to these lists.\n",
        "\n",
        "1.  How many words have a `q` in them?  What fraction of words do *not* have an `e`?\n",
        "\n",
        "1.  Import `numpy` and convert your lists to `numpy` arrays.  Also execute the following code:  \n",
        "```alphabet = [chr(i) for i in range(ord('a'),ord('z')+1)]```  \n",
        "What does this do?\n",
        "\n",
        "1.  Make a bar graph of the number of words starting with each letter.  You will have to import at least one more package to do this.  Label the axes and give the whole plot a title.\n",
        "\n",
        "1.  What are the six longest words in the word list?\n",
        "\n",
        "1.  Make a histogram of the number of words of each length.  Again, give the plot a title and label the axes.  What is the most common length of a word in the wordlist?\n",
        "\n",
        "1.  Finally, before you submit your notebook, go back and clean it up, remove unnecessary code, add text explanations and comments where appropriate, and so on.  Make it as easy as possible for us to read.\n"
      ],
      "metadata": {
        "id": "c4_sYArzWWfQ"
      }
    },
    {
      "cell_type": "markdown",
      "source": [
        "\n",
        "### BONUS:\n",
        "\n",
        "- (warmup) How many words contain both letters `v` and `a`?  What about both `w` and `l`?  The letters don't have to be next to each other or in the order I gave them, just anywhere in the word.  Also, how long does it take the computer to run the code you wrote to answer this question?  This should appear in a tiny font under the green checkmark next to the \"run\" button after the code finishes (without errors, of course).\n",
        "\n",
        "- (the real bonus)\n",
        "What is the pair of letters that appear in the most words?  How many words contain both those letters?  \n",
        "In other words, in the previous problem, you counted the words for two separate pairs, `v,a` and `w,l`.  I'm now asking, out of all possible pairs, which pair would give the largest answer, and what that number is.\n",
        "Answer the same questions for the *fewest* words:  what pair of letters is contained in the fewest words, and how many words are those two letters contained in?\n",
        "\n",
        "\n",
        "\n",
        "Note:  **Before you attempt this, plan your strategy!**  What exactly is the infomation you want to collect?  How should you structure that information?  How can you set up code to implement that structure?  When you have something you are ready to try, **test your code on a smaller set than the whole word list!**  The reason for this is that the word list is long, and each time you run the code on the whole list it might take several minutes to execute.  \n",
        "\n",
        "Tip:  there is a way to go back and forth between letters and numbers.  The `ord()` function takes characters to integers, and the `chr()` function takes integers back to characters.  Specifically, the (lower case) alphabetic characters are encoded with integers starting at 97.  So if you type `ord('a')` the output will be `97`.  If you type `chr(98)` the output will be `'b'`.  The way I solved the bonus problem, this tip was useful.  (See also problem 6.)\n",
        "\n",
        "\n",
        "\n",
        "\n",
        "\n"
      ],
      "metadata": {
        "id": "jhSfPMBrjEff"
      }
    }
  ]
}